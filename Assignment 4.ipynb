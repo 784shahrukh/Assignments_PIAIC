{
 "cells": [
  {
   "cell_type": "code",
   "execution_count": 1,
   "metadata": {},
   "outputs": [
    {
     "name": "stdout",
     "output_type": "stream",
     "text": [
      "{'first_name': 'Fahad', 'last_name': 'Khan', 'age': 28, 'city': 'Karachi'}\n",
      "{'first_name': 'Ahad', 'last_name': 'Rafiq', 'age': 27, 'city': 'Karachi'}\n",
      "{'first_name': 'Fahad', 'last_name': 'Khan', 'age': 28, 'city': 'Karachi', 'Qualification': 'Masters'}\n",
      "{'first_name': 'Ahad', 'last_name': 'Rafiq', 'age': 27, 'city': 'Karachi', 'Qualification': 'MPhil'}\n",
      "{'first_name': 'Fahad', 'last_name': 'Khan', 'age': 28, 'city': 'Karachi'}\n",
      "{'first_name': 'Ahad', 'last_name': 'Rafiq', 'age': 27, 'city': 'Karachi'}\n"
     ]
    }
   ],
   "source": [
    "fahad={'first_name':\"Fahad\",'last_name':\"Khan\", \"age\": 28, \"city\": \"Karachi\"}\n",
    "Ahad= {'first_name':\"Ahad\",'last_name':\"Rafiq\", \"age\": 27, \"city\": \"Karachi\"}\n",
    "\n",
    "print (fahad)\n",
    "print (Ahad)\n",
    "\n",
    "fahad[\"Qualification\"]= 'Masters'\n",
    "Ahad[\"Qualification\"]= 'MPhil'\n",
    "print (fahad)\n",
    "print (Ahad)\n",
    "\n",
    "del fahad[\"Qualification\"]\n",
    "del Ahad[\"Qualification\"]\n",
    "print (fahad)\n",
    "print (Ahad)"
   ]
  },
  {
   "cell_type": "code",
   "execution_count": 2,
   "metadata": {},
   "outputs": [
    {
     "name": "stdout",
     "output_type": "stream",
     "text": [
      "{'Country': 'Pakistan', 'Population': '20.1M', 'Fact': 'City of Lights'}\n",
      "{'Country': 'UAE', 'Population': '3.1M', 'Fact': 'modern architecture'}\n",
      "{'Country': 'KSA', 'Population': '1.53M', 'Fact': 'Holy City'}\n"
     ]
    }
   ],
   "source": [
    "cities = {\"Karachi\":{\"Country\":\"Pakistan\",\"Population\": '20.1M',\"Fact\": \"City of Lights\"},\n",
    "          \"Dubai\":{\"Country\":\"UAE\",\"Population\": '3.1M',\"Fact\": \"modern architecture\"},\n",
    "        \"Mecca\":{\"Country\":\"KSA\",\"Population\": '1.53M',\"Fact\": \"Holy City\"}}\n",
    "print(cities['Karachi'])\n",
    "print(cities['Dubai'])\n",
    "print(cities['Mecca'])"
   ]
  },
  {
   "cell_type": "markdown",
   "metadata": {},
   "source": [
    "# A movie theater charges different ticket prices depending on a person’s age. If a person is under the age of 3, the ticket is free; if they are between 3 and 12, the ticket is $10; and if they are over age 12, the ticket is $15. Write a loop in which you ask users their age, and then tell them the cost of their movie ticket."
   ]
  },
  {
   "cell_type": "code",
   "execution_count": 3,
   "metadata": {},
   "outputs": [
    {
     "name": "stdout",
     "output_type": "stream",
     "text": [
      "Enter your age:22\n",
      "Kindly pay $15 and enjoy the movie\n"
     ]
    }
   ],
   "source": [
    "age = input (\"Enter your age:\")\n",
    "age=int (age)\n",
    "if age <3:\n",
    "    print ('You can enjoy the movie without paying a cost')\n",
    "elif age <=12:\n",
    "    print ('Kindly pay $10 and enjoy the movie')\n",
    "else:\n",
    "    print ('Kindly pay $15 and enjoy the movie')\n"
   ]
  },
  {
   "cell_type": "code",
   "execution_count": null,
   "metadata": {},
   "outputs": [],
   "source": [
    "def book(favorite_book):\n",
    "    print (\"My favorite book is \"+ favorite_book.title())\n",
    "book(\"Holy Quran\")"
   ]
  },
  {
   "cell_type": "code",
   "execution_count": null,
   "metadata": {},
   "outputs": [],
   "source": [
    "import random\n",
    "number = random.randint(0,30)\n",
    "def main():\n",
    "    a=int(input('Guess a number from 1 to 30: '))\n",
    "    if a == number:\n",
    "        print(\"You got it!\")\n",
    "    elif a > number:\n",
    "        print(\"too high\")\n",
    "        main()\n",
    "    else:\n",
    "        print(\"too low\")\n",
    "main()"
   ]
  },
  {
   "cell_type": "code",
   "execution_count": null,
   "metadata": {},
   "outputs": [],
   "source": [
    "import random\n",
    "number = random.randint(0,30)\n",
    "tries, a = 0, 0\n",
    "\n",
    "def main():\n",
    "    a=int(input('Guess a number from 1 to 30: '))\n",
    "    if a == number:\n",
    "        print(\"You got it!\")\n",
    "        break\n",
    "    elif a > number:\n",
    "        print(\"too high\")\n",
    "        main()\n",
    "    elif a > number:\n",
    "        print(\"too high\")\n",
    "        main()\n",
    "    else:\n",
    "        print(\"Sorry! you couldn't guessed the right number\")\n",
    "main()"
   ]
  },
  {
   "cell_type": "code",
   "execution_count": 24,
   "metadata": {},
   "outputs": [
    {
     "name": "stdout",
     "output_type": "stream",
     "text": [
      "Guess a number from 1 to 30: 4\n",
      "too low\n",
      "Guess a number from 1 to 30: 5\n",
      "too low\n",
      "Guess a number from 1 to 30: 6\n",
      "too low\n",
      "Nope. The number was was 13\n"
     ]
    }
   ],
   "source": [
    "import random\n",
    "number = random.randint(1,30)\n",
    "guess_taken = 0\n",
    "while guess_taken < 3:\n",
    "    guess = int(input(\"Guess a number from 1 to 30: \"))\n",
    "    guess_taken= guess_taken +1\n",
    "    if guess == number:\n",
    "        print(\"You got it!\")\n",
    "        break\n",
    "    if guess < number:\n",
    "        print(\"too low\")\n",
    "    if guess > number:\n",
    "        print(\"too high\")\n",
    "if guess != number:\n",
    "    number = str(number)\n",
    "\n",
    "print('Nope. The number was was ' + number)"
   ]
  },
  {
   "cell_type": "code",
   "execution_count": null,
   "metadata": {},
   "outputs": [],
   "source": []
  }
 ],
 "metadata": {
  "kernelspec": {
   "display_name": "Python 3",
   "language": "python",
   "name": "python3"
  },
  "language_info": {
   "codemirror_mode": {
    "name": "ipython",
    "version": 3
   },
   "file_extension": ".py",
   "mimetype": "text/x-python",
   "name": "python",
   "nbconvert_exporter": "python",
   "pygments_lexer": "ipython3",
   "version": "3.7.1"
  }
 },
 "nbformat": 4,
 "nbformat_minor": 2
}
