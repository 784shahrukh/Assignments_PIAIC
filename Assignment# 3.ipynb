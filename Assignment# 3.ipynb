{
 "cells": [
  {
   "cell_type": "code",
   "execution_count": 2,
   "metadata": {},
   "outputs": [
    {
     "name": "stdout",
     "output_type": "stream",
     "text": [
      "#### CALCULATOR ####\n",
      "Enter first number: 2\n",
      "Enter second number: 3\n",
      "Select operation.\n",
      "1. Add\n",
      "2. Subtract\n",
      "3. Multiply\n",
      "4. Divide\n",
      "5. Power\n",
      "Enter choice(1/2/3/4/5):5\n",
      "Result =  8\n",
      "Do you want to continue (y/n) ?y\n"
     ]
    }
   ],
   "source": [
    "def add(x, y):\n",
    "    return x + y\n",
    "  \n",
    "def subtract(x, y):\n",
    "    return x - y\n",
    " \n",
    "def multiply(x, y):\n",
    "    return x * y\n",
    "\n",
    "def divide(x, y):\n",
    "    return x / y\n",
    "\n",
    "def power(x, y):\n",
    "    return x ** y\n",
    " \n",
    "while True:\n",
    "    print(\"#### CALCULATOR ####\")\n",
    "    num1 = int(input(\"Enter first number: \"))\n",
    "    num2 = int(input(\"Enter second number: \"))\n",
    " \n",
    "    print(\"Select operation.\")\n",
    "    print(\"1. Add\")\n",
    "    print(\"2. Subtract\")\n",
    "    print(\"3. Multiply\")\n",
    "    print(\"4. Divide\")\n",
    "    print(\"5. Power\")   \n",
    " \n",
    "    choice = input(\"Enter choice(1/2/3/4/5):\")\n",
    "    result = 0\n",
    " \n",
    "    if choice == '1':\n",
    "        result = add(num1, num2)\n",
    "    elif choice == '2':\n",
    "        result = subtract(num1, num2)\n",
    "    elif choice == '3':\n",
    "        result = multiply(num1, num2)\n",
    "    elif choice == '4':\n",
    "        result = divide(num1, num2)\n",
    "    elif choice == '5':\n",
    "        result = power(num1, num2)    \n",
    "    else:\n",
    "        print(\"Invalid Input\")\n",
    " \n",
    "    print(\"Result = \", result)\n",
    " \n",
    "    quit = input(\"Do you want to continue (y/n) ?\")\n",
    "    if quit == 'y':\n",
    "        break"
   ]
  },
  {
   "cell_type": "code",
   "execution_count": 3,
   "metadata": {},
   "outputs": [
    {
     "data": {
      "text/plain": [
       "{'Dhaka:Bangladesh', 'Dubai:UAE', 'Karachi:Pakistan'}"
      ]
     },
     "execution_count": 3,
     "metadata": {},
     "output_type": "execute_result"
    }
   ],
   "source": [
    "name = {\"Karachi:Pakistan\",\"Dhaka:Bangladesh\"}\n",
    "name.update({'Dubai:UAE'})\n",
    "name"
   ]
  },
  {
   "cell_type": "code",
   "execution_count": 4,
   "metadata": {},
   "outputs": [
    {
     "name": "stdout",
     "output_type": "stream",
     "text": [
      "314\n"
     ]
    }
   ],
   "source": [
    "my_dict = {'data1':100,'data2':55,'data3':159}\n",
    "print (sum(my_dict.values()))"
   ]
  },
  {
   "cell_type": "code",
   "execution_count": 9,
   "metadata": {},
   "outputs": [
    {
     "name": "stdout",
     "output_type": "stream",
     "text": [
      "[2, 3, 6]\n"
     ]
    }
   ],
   "source": [
    "def Repeat(x): \n",
    "    size = len(x) \n",
    "    repeated = [] \n",
    "    for i in range(size): \n",
    "        k = i + 1\n",
    "        for j in range(k, size): \n",
    "            if x[i] == x[j] and x[i] not in repeated: \n",
    "                repeated.append(x[i]) \n",
    "    return repeated \n",
    "list1 = [1, 2, 3, 2, 2, 3, 4,  \n",
    "         5, 3, 6, 6, 2, 2] \n",
    "print (Repeat(list1))"
   ]
  },
  {
   "cell_type": "code",
   "execution_count": 10,
   "metadata": {},
   "outputs": [
    {
     "name": "stdout",
     "output_type": "stream",
     "text": [
      "Duplication found\n",
      "Duplication not found\n"
     ]
    }
   ],
   "source": [
    "d = {'a': 10, 'b': 20, 'c': 30, 'd': 40, 'e': 50, 'f': 60}\n",
    "def duplicate(x):\n",
    "  if x in d:\n",
    "      print('Duplication found')\n",
    "  else:\n",
    "      print('Duplication not found')\n",
    "duplicate('b')\n",
    "duplicate('s')"
   ]
  },
  {
   "cell_type": "code",
   "execution_count": null,
   "metadata": {},
   "outputs": [],
   "source": []
  }
 ],
 "metadata": {
  "kernelspec": {
   "display_name": "Python 3",
   "language": "python",
   "name": "python3"
  },
  "language_info": {
   "codemirror_mode": {
    "name": "ipython",
    "version": 3
   },
   "file_extension": ".py",
   "mimetype": "text/x-python",
   "name": "python",
   "nbconvert_exporter": "python",
   "pygments_lexer": "ipython3",
   "version": "3.7.1"
  }
 },
 "nbformat": 4,
 "nbformat_minor": 2
}
