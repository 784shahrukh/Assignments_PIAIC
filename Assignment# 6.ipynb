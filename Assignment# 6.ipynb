{
 "cells": [
  {
   "cell_type": "code",
   "execution_count": 3,
   "metadata": {},
   "outputs": [],
   "source": [
    "# Q. Define Object Oriented Programming Language?\n",
    "# Answer. It was one of the most effective method for writing a software. This model compartmentalizes data into objects (data fields) and describes object contents and behavior through the declaration of classes (methods).\n"
   ]
  },
  {
   "cell_type": "code",
   "execution_count": 6,
   "metadata": {},
   "outputs": [
    {
     "ename": "SyntaxError",
     "evalue": "invalid character in identifier (<ipython-input-6-9372375ec96b>, line 2)",
     "output_type": "error",
     "traceback": [
      "\u001b[1;36m  File \u001b[1;32m\"<ipython-input-6-9372375ec96b>\"\u001b[1;36m, line \u001b[1;32m2\u001b[0m\n\u001b[1;33m    •\tIt provides a clear modular structure for programs.\u001b[0m\n\u001b[1;37m    ^\u001b[0m\n\u001b[1;31mSyntaxError\u001b[0m\u001b[1;31m:\u001b[0m invalid character in identifier\n"
     ]
    }
   ],
   "source": [
    "''''''Q. List down the Benefits of OOP?\n",
    "•\tIt provides a clear modular structure for programs.\n",
    "•\tIt is good for defining abstract data types.\n",
    "•\tobjects, methods, instance, message passing, inheritance are some important properties provided by it.\n",
    "•\tIt implements in real life scenario.\n",
    "•\tIn OOP, programmer not only defines data types but also deals with operations applied for data structures.''''''\n"
   ]
  },
  {
   "cell_type": "code",
   "execution_count": 8,
   "metadata": {},
   "outputs": [],
   "source": [
    "#Q. Differentiate between function and method?\n",
    "#Method and a function are the same, with different terms. A method is a procedure or function in object-oriented programming.\n",
    "#A function is a group of reusable code which can be called anywhere in your program. This eliminates the need for writing the same code again and again. \n"
   ]
  },
  {
   "cell_type": "code",
   "execution_count": 9,
   "metadata": {},
   "outputs": [],
   "source": [
    "#Q. Define the following terms: \n",
    "#1. Class \n",
    "#A Class is like an object constructor, or a \"blueprint\" for creating objects.\n",
    "#2. Object \n",
    "#Object is simply a collection of data (variables) and methods (functions) that act on those data. And, class is a blueprint for the object.\n",
    "#3. Attribute \n",
    "#All functions have a built-in attribute __doc__, which returns the doc string defined in the function source code. We can also assign new attributes to them, as well as retrieve the values of those attributes.\n",
    "#4. Behavior\n",
    "#Anything which have a certain reaction. Example; adding, deleting, skipping, new-line.\n"
   ]
  },
  {
   "cell_type": "code",
   "execution_count": null,
   "metadata": {},
   "outputs": [],
   "source": [
    "class Cars():\n",
    "    def __init__(self,model,colour,make,year,odometer):\n",
    "        self.model= model\n",
    "        self.colour= colour\n",
    "        self.make= make\n",
    "        self.year=year\n",
    "        self.odometer= 1000\n",
    "    def get_description(self):\n",
    "        print (\"The car is made \"+self.make+ \". and the car model is \"+ self.model+ \". Car colour is \"+ self.colour+ \" & car made in \"+ str(self.year))\n",
    "\n",
    "    def read_odometer(self,odometer_reading):\n",
    "            if odometer_reading> self.odometer:\n",
    "                self.odometer=odometer_reading\n",
    "            else:\n",
    "                print(\"You cannot roll back odometer\")\n",
    "    def add_new_reading(self,new_value):\n",
    "            self.odometer+=new_value\n",
    "            print(self.odometer)\n",
    "               \n",
    "car1=Cars(\"A3\",\"Black\",'Audi',2010,180)\n",
    "car1.get_description()\n",
    "car1.add_new_reading(1000)"
   ]
  }
 ],
 "metadata": {
  "kernelspec": {
   "display_name": "Python 3",
   "language": "python",
   "name": "python3"
  },
  "language_info": {
   "codemirror_mode": {
    "name": "ipython",
    "version": 3
   },
   "file_extension": ".py",
   "mimetype": "text/x-python",
   "name": "python",
   "nbconvert_exporter": "python",
   "pygments_lexer": "ipython3",
   "version": "3.7.1"
  }
 },
 "nbformat": 4,
 "nbformat_minor": 2
}
